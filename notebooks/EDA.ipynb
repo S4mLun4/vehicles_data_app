{
 "cells": [
  {
   "cell_type": "code",
   "execution_count": null,
   "id": "473398d5",
   "metadata": {},
   "outputs": [],
   "source": [
    "import pandas as pd\n",
    "import plotly.graph_objects as go # Importación de plotly.graph_objects como go\n",
    "\n",
    "# Leer los datos del archivo CSV\n",
    "car_data = pd.read_csv('vehicles_us.csv')\n",
    "\n",
    "# Crear un histograma utilizando plotly.graph_objects\n",
    "# Se crea una figura vacía y luego se añade un rastro de histograma\n",
    "fig = go.Figure(data=[go.Histogram(x=car_data['odometer'])])\n",
    "\n",
    "# Opcional: Puedes añadir un título al gráfico si lo deseas\n",
    "fig.update_layout(title_text='Distribución del Odómetro')\n",
    "\n",
    "# Mostrar el gráfico Plotly\n",
    "fig.show()\n"
   ]
  }
 ],
 "metadata": {
  "kernelspec": {
   "display_name": ".venv",
   "language": "python",
   "name": "python3"
  },
  "language_info": {
   "name": "python",
   "version": "3.12.0"
  }
 },
 "nbformat": 4,
 "nbformat_minor": 5
}
